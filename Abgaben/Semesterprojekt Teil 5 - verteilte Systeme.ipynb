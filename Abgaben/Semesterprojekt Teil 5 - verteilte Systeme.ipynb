{
 "cells": [
  {
   "cell_type": "markdown",
   "metadata": {},
   "source": [
    "# Prog3 - Semesterprojekt Teil 4 - N verteilte Punktmassen"
   ]
  },
  {
   "cell_type": "markdown",
   "metadata": {},
   "source": [
    "### Start-Reihenfolge\n",
    "\n",
    "1. Starten des Managers:\n",
    "    - keine Parameter nötig, startet automatisch mit eigener IP und Port 34002\n",
    "    ```bash\n",
    "    cd ~/PROG3/prog3_praktikum/Semesterprojekt/Semesterprojekt/galaxy_simulation_mp\n",
    "    python3 galaxy_manager.py\n",
    "    ```\n",
    "\n",
    "2. Starten der Worker:\n",
    "    - Params: ip des Managers und Port\n",
    "    ```bash\n",
    "    cd ~/PROG3/prog3_praktikum/Semesterprojekt/Semesterprojekt/galaxy_simulation_mp\n",
    "    python3 galaxy_worker.py ip 34002\n",
    "    ```\n",
    "\n",
    "3. Starten der Galaxy-Simulation:\n",
    "    - wie gewohnt oder übers Terminal:\n",
    "    ```bash\n",
    "    cd ~/PROG3/prog3_praktikum/Semesterprojekt/Semesterprojekt/galaxy_simulation_mp\n",
    "    python3 simulation_gui.py\n",
    "    ```\n",
    "\n",
    "Die Punkte 2 und 3 können auch vertauscht stattfinden"
   ]
  },
  {
   "cell_type": "markdown",
   "metadata": {},
   "source": [
    "### Ablaufdiagramm\n",
    "![](./images%20and%20files/Ablaufdiagramm%20mp.png)\n"
   ]
  }
 ],
 "metadata": {
  "kernelspec": {
   "display_name": "Python 3.10.8 64-bit",
   "language": "python",
   "name": "python3"
  },
  "language_info": {
   "name": "python",
   "version": "3.10.8"
  },
  "orig_nbformat": 4,
  "vscode": {
   "interpreter": {
    "hash": "01425d7429d044154669f9fc29c1a7a477028473d27ddbdf67350fc8a0d0c5e4"
   }
  }
 },
 "nbformat": 4,
 "nbformat_minor": 2
}
