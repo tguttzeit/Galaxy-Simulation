{
 "cells": [
  {
   "cell_type": "markdown",
   "id": "bdb84004",
   "metadata": {},
   "source": [
    "# Prog3 - Semesterprojekt - Erstellung des Projekts"
   ]
  },
  {
   "cell_type": "markdown",
   "id": "36719936",
   "metadata": {},
   "source": [
    "## NICHT NOCHMAL AUSFÜHREN!!! Code wird gelöscht, das Skript erzeugt ein leeres Projekt"
   ]
  },
  {
   "cell_type": "code",
   "execution_count": 2,
   "id": "793214c1",
   "metadata": {},
   "outputs": [
    {
     "name": "stdout",
     "output_type": "stream",
     "text": [
      "Started creation of new project at 2022-11-10 11:30:50.993132\n",
      "Project directory successfully created\n",
      "Created init file\n",
      "Created init file\n",
      "Created README\n",
      "Welcome to the Sphinx 4.3.2 quickstart utility.\n",
      "\n",
      "Please enter values for the following settings (just press Enter to\n",
      "accept a default value, if one is given in brackets).\n",
      "\n",
      "Selected root path: .\n",
      "\n",
      "Creating file /home/tguttzeit/PROG3/prog3_praktikum/Semesterprojekt/Semesterprojekt/docs/conf.py.\n",
      "Creating file /home/tguttzeit/PROG3/prog3_praktikum/Semesterprojekt/Semesterprojekt/docs/index.rst.\n",
      "Creating file /home/tguttzeit/PROG3/prog3_praktikum/Semesterprojekt/Semesterprojekt/docs/Makefile.\n",
      "Creating file /home/tguttzeit/PROG3/prog3_praktikum/Semesterprojekt/Semesterprojekt/docs/make.bat.\n",
      "\n",
      "Finished: An initial directory structure has been created.\n",
      "\n",
      "You should now populate your master file /home/tguttzeit/PROG3/prog3_praktikum/Semesterprojekt/Semesterprojekt/docs/index.rst and create other documentation\n",
      "source files. Use the Makefile to build the docs, like so:\n",
      "   make builder\n",
      "where \"builder\" is one of the supported builders, e.g. html, latex or linkcheck.\n",
      "\n",
      "Creating file docs/galaxy_simulation.rst.\n",
      "Creating file docs/modules.rst.\n",
      "Running Sphinx v4.3.2\n",
      "loading translations [en]... done\n",
      "making output directory... done\n",
      "building [mo]: targets for 0 po files that are out of date\n",
      "building [html]: targets for 3 source files that are out of date\n",
      "updating environment: [new config] 3 added, 0 changed, 0 removed\n",
      "reading sources... [ 33%] galaxy_simulation\n",
      "reading sources... [ 66%] index\n",
      "reading sources... [100%] modules\n",
      "\n",
      "looking for now-outdated files... none found\n",
      "pickling environment... done\n",
      "checking consistency... done\n",
      "preparing documents... done\n",
      "writing output... [ 33%] galaxy_simulation\n",
      "writing output... [ 66%] index\n",
      "writing output... [100%] modules\n",
      "\n",
      "generating indices... genindex "
     ]
    },
    {
     "name": "stderr",
     "output_type": "stream",
     "text": [
      "/home/tguttzeit/PROG3/prog3_praktikum/Semesterprojekt/Semesterprojekt/docs/modules.rst: WARNING: document isn't included in any toctree\n"
     ]
    },
    {
     "name": "stdout",
     "output_type": "stream",
     "text": [
      "py-modindex done\n",
      "writing additional pages... search done\n",
      "copying static files... done\n",
      "copying extra files... done\n",
      "dumping search index in English (code: en)... done\n",
      "dumping object inventory... done\n",
      "build succeeded, 1 warning.\n",
      "\n",
      "The HTML pages are in _build/html.\n"
     ]
    },
    {
     "data": {
      "text/plain": [
       "CompletedProcess(args=['make', 'html'], returncode=0)"
      ]
     },
     "execution_count": 2,
     "metadata": {},
     "output_type": "execute_result"
    }
   ],
   "source": [
    "import os\n",
    "from datetime import datetime\n",
    "import shutil\n",
    "import subprocess\n",
    "\n",
    "dt = datetime.now()\n",
    "print(f\"Started creation of new project at {dt}\")\n",
    "\n",
    "# users home directory\n",
    "home_directory_name = os.path.expanduser('~')\n",
    "\n",
    "# path where the project directory should be created\n",
    "base_path = os.path.join(home_directory_name, 'PROG3', 'prog3_praktikum', 'Semesterprojekt')\n",
    "\n",
    "project_name = 'Semesterprojekt'\n",
    "\n",
    "# Please don't use spaces in the author name:\n",
    "# underlines will be automatically replaced by spaces\n",
    "author_name = 'group_2'\n",
    "\n",
    "project_version = '0.0.1'\n",
    "project_release = '0.0.1'\n",
    "\n",
    "package_name = 'galaxy_simulation'\n",
    "# name of package modules\n",
    "module_names = ['galaxy']\n",
    "\n",
    "test_dir_name = 'tests'\n",
    "doc_dir_name = 'docs'\n",
    "\n",
    "# path of project directories\n",
    "project_path = os.path.join(base_path, project_name)\n",
    "# names of directories to be created\n",
    "subdir_names = [package_name, test_dir_name, doc_dir_name]\n",
    "\n",
    "# check if project path exists and delete if thats the case\n",
    "if not os.path.exists(project_path):\n",
    "    print(f'Project path {project_path} already exists')\n",
    "    # create parent directory including intermediate directories\n",
    "    os.makedirs(project_path)\n",
    "\n",
    "# create default subdirectories\n",
    "for subdir_name in subdir_names:\n",
    "    subdir_path = os.path.join(project_path, subdir_name)\n",
    "    if not os.path.exists(subdir_path):\n",
    "        os.mkdir(os.path.join(project_path, subdir_name))\n",
    "        \n",
    "# create empty module and test files\n",
    "package_path = os.path.join(project_path, package_name)\n",
    "test_path = os.path.join(project_path, test_dir_name)\n",
    "for module_name in module_names:\n",
    "    module_file_name = os.path.join(package_path, module_name) + \".py\"\n",
    "    with open(module_file_name, \"w\") as module_file:\n",
    "        module_file.write(\n",
    "            f'\"\"\" TODO: Enter docstring for module {module_name}\"\"\"'\n",
    "        )\n",
    "    test_file_name = os.path.join(test_path, \"test_\" + module_name) + \".py\"\n",
    "    with open(test_file_name, \"w\") as module_file:\n",
    "        module_file.write(f'\"\"\" Tests for module {module_name}\"\"\"')\n",
    "print('Project directory successfully created')\n",
    "    \n",
    "def create_init_file(path_name: str, comment: str):\n",
    "    init_file_name = os.path.join(path_name, \"__init__.py\")\n",
    "    with open(init_file_name, \"w\") as init_file:\n",
    "        init_file.write(comment)\n",
    "    print (\"Created init file\")\n",
    "        \n",
    "create_init_file(package_path, f'\"\"\"\\nPackage {package_name}\\n\"\"\"')\n",
    "create_init_file(test_path, f'\"\"\"\\nTests for package {package_name}\\n\"\"\"')\n",
    "\n",
    "# R E A D M E\n",
    "with open(os.path.join(project_path, \"README.md\"), 'w') as readme_file:\n",
    "    readme_file.write(f'{project_name} is a great project')\n",
    "print (\"Created README\") \n",
    "\n",
    "# D O C U M E N T A T I O N\n",
    "documentation_path = os.path.join(project_path, doc_dir_name)\n",
    "# cleanup\n",
    "shutil.rmtree(documentation_path)\n",
    "# create empty directory\n",
    "os.mkdir(documentation_path)\n",
    "# call sphinx-quickstart\n",
    "quickstart_cmd = f\"sphinx-quickstart -p {project_name} -a {author_name} \"\n",
    "quickstart_cmd += f\"-v {project_version} -r {project_release} -l en --no-sep \"\n",
    "quickstart_cmd += \"--ext-autodoc --extensions=sphinx.ext.napoleon\"\n",
    "quickstart_args = quickstart_cmd.split()\n",
    "subprocess.run(quickstart_args, cwd=documentation_path)\n",
    "# modyfy sys.path in conf.py\n",
    "with open(os.path.join(documentation_path, \"conf.py\"), \"r\") as in_file:\n",
    "    conf_orig = in_file.read()\n",
    "with open(os.path.join(documentation_path, \"conf.py\"), \"w\") as out_file:\n",
    "    out_file.write(\"import sys; import os; sys.path.insert(0, os.path.abspath('../'))\")\n",
    "    out_file.write(conf_orig)\n",
    "# call apidoc\n",
    "apidoc_cmd = f\"sphinx-apidoc -o {doc_dir_name} {package_name}\"\n",
    "apidoc_args = apidoc_cmd.split()\n",
    "subprocess.run(apidoc_args, cwd=project_path)\n",
    "# create html documentation\n",
    "make_cmd = 'make html'\n",
    "make_args = make_cmd.split()\n",
    "subprocess.run(make_args, cwd=documentation_path)"
   ]
  }
 ],
 "metadata": {
  "kernelspec": {
   "display_name": "Python 3.10.6 64-bit",
   "language": "python",
   "name": "python3"
  },
  "language_info": {
   "codemirror_mode": {
    "name": "ipython",
    "version": 3
   },
   "file_extension": ".py",
   "mimetype": "text/x-python",
   "name": "python",
   "nbconvert_exporter": "python",
   "pygments_lexer": "ipython3",
   "version": "3.10.6"
  },
  "latex_envs": {
   "LaTeX_envs_menu_present": true,
   "autoclose": false,
   "autocomplete": true,
   "bibliofile": "biblio.bib",
   "cite_by": "apalike",
   "current_citInitial": 1,
   "eqLabelWithNumbers": true,
   "eqNumInitial": 1,
   "hotkeys": {
    "equation": "Ctrl-E",
    "itemize": "Ctrl-I"
   },
   "labels_anchors": false,
   "latex_user_defs": false,
   "report_style_numbering": false,
   "user_envs_cfg": false
  },
  "toc": {
   "base_numbering": 1,
   "nav_menu": {},
   "number_sections": true,
   "sideBar": true,
   "skip_h1_title": false,
   "title_cell": "Table of Contents",
   "title_sidebar": "Contents",
   "toc_cell": false,
   "toc_position": {},
   "toc_section_display": true,
   "toc_window_display": false
  },
  "varInspector": {
   "cols": {
    "lenName": 16,
    "lenType": 16,
    "lenVar": 40
   },
   "kernels_config": {
    "python": {
     "delete_cmd_postfix": "",
     "delete_cmd_prefix": "del ",
     "library": "var_list.py",
     "varRefreshCmd": "print(var_dic_list())"
    },
    "r": {
     "delete_cmd_postfix": ") ",
     "delete_cmd_prefix": "rm(",
     "library": "var_list.r",
     "varRefreshCmd": "cat(var_dic_list()) "
    }
   },
   "types_to_exclude": [
    "module",
    "function",
    "builtin_function_or_method",
    "instance",
    "_Feature"
   ],
   "window_display": false
  },
  "vscode": {
   "interpreter": {
    "hash": "916dbcbb3f70747c44a77c7bcd40155683ae19c65e1c03b4aa3499c5328201f1"
   }
  }
 },
 "nbformat": 4,
 "nbformat_minor": 5
}
