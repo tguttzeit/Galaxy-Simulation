{
 "cells": [
  {
   "cell_type": "markdown",
   "metadata": {},
   "source": [
    "# Prog3 - Semesterprojekt Teil 4 - N verteilte Punktmassen"
   ]
  },
  {
   "cell_type": "markdown",
   "metadata": {},
   "source": [
    "## Aufgabenstellung verstehen\n",
    "\n",
    "#### Simulation wird auf N zufällig im Raum verteilte Punktmassen ausgeweitet.\n",
    "- Variable um die Anzahl der vorhandenen Körper zu ändern.\n",
    "- Algorithmus um die Körper gleichmäßig und zufällig zu verteilen.\n",
    "\n",
    "#### Die Massen der Körper werden aus einem Intervall $[m_{min}, m_{max}]$ gewählt.\n",
    "- Zufallsgenerator, der aus einem Intervall die Masse der jeweiligen Körper bestimmt.\n",
    "\n",
    "#### Es soll möglich sein, eine (große) Masse im Zentrum des Raumbereichs zu positionieren.\n",
    "- Variable, um die Masse des Körpers im Zentrum zu ändern."
   ]
  },
  {
   "cell_type": "markdown",
   "metadata": {},
   "source": [
    "## Formeln verstehen"
   ]
  },
  {
   "cell_type": "markdown",
   "metadata": {},
   "source": [
    "$$ |\\vec v_{i}| = \\frac{M - m_{i}}{M}\\sqrt\\frac{GM }{r}, \\quad r = |\\vec r_{i} - \\vec r_{s,i}|$$\n",
    "\n",
    "- Dabei steht $\\vec v_{i}$ für die momentane Geschwindigkeit des Körpers,\n",
    "- $M$ für die gesamte Masse im vorhandenem System,\n",
    "- $m_{i}$ die Masse des betrachteten Körpers,\n",
    "- $G$ die Gravitationskonstante\n",
    "- und $r$ für den Abstand der Körper zueinander\n",
    "\n",
    "$$ \\frac{\\vec v_{i}}{|\\vec v_{i}|} = \\frac{(\\vec r_{i} - \\vec r_{s,i}) \\times \\vec z}{|\\vec r_{i} - \\vec r_{s,i} \\times \\vec z|},\\quad \\vec{z}_1= \\left(\\begin{array}{c} 0 \\\\ 0 \\\\ 1 \\end{array}\\right) $$\n",
    "\n",
    "Hier wird lediglich der Vektor $\\vec{z}$ mit dem aktuellen Geschwindigkeitsvektor $\\vec v_{i}$ verrechnet und anschließend der resultierende Einheitsvektor bestimmt.\n",
    "\n"
   ]
  },
  {
   "cell_type": "markdown",
   "metadata": {},
   "source": [
    "## Implementierung\n",
    "\n",
    "- Funktion _initialize_random_bodies_(self)\n",
    "    - Bestimmt zufällige Daten für die Körper. Dabei wird die Masse zufällig aus einem Intervall gewählt\n",
    "    - Die Startpositionen werden anhand der Position im Array gesetzt. Der Abstand der Körper zueinander ist dabei gleichgroß.\n",
    "    - Optimierungsidee: Damenproblem einsetzen für eine zufällig u. gleichmäßige Verteilung der Körper im Raumbereich"
   ]
  },
  {
   "cell_type": "markdown",
   "metadata": {},
   "source": [
    "- Funktion _calculate_start_velocity(self, total_mass)_\n",
    "    - Berechnet die Startgeschwindigkeit jedes Körpers im System, schwarzes Loch ausgenommen"
   ]
  },
  {
   "cell_type": "markdown",
   "metadata": {},
   "source": [
    "- Funktion _calculate_center_of_mass_(self, total_mass, curr_body_index)\n",
    "    - Berechnet das Zentrum der Masse, aktueller Körper ausgeschlossen (wird benötigt um die Startgeschwindigkeit der Körper zu bestimmen)"
   ]
  },
  {
   "cell_type": "markdown",
   "metadata": {},
   "source": [
    "- Funktion _calculate_velocity_unit_vector(self, difference_pos_center_of_mass)_\n",
    "    - Berechnet den Einheitsvektor der Geschwindigkeit jedes Körpers (wird benötigt, um die Z-Koordinate einzuberechnen)"
   ]
  },
  {
   "cell_type": "markdown",
   "metadata": {},
   "source": [
    "- Funktion _calculate_total_pulse_abs(self)_\n",
    "    - Berechnet den Betrag des Gesamtimpulses im System.\n",
    "    - Sollte im Regelfall immer gleich bleiben (Impulserhaltungssatz)"
   ]
  },
  {
   "cell_type": "code",
   "execution_count": 1,
   "metadata": {},
   "outputs": [
    {
     "name": "stdout",
     "output_type": "stream",
     "text": [
      "/home/pyoneer/PROG3/prog3_praktikum/Semesterprojekt/Semesterprojekt/galaxy_simulation\n",
      "creating renderer\n",
      "starting renderer\n"
     ]
    }
   ],
   "source": [
    "%cd ~/PROG3/prog3_praktikum/Semesterprojekt/Semesterprojekt/galaxy_simulation\n",
    "!python3 simulation_gui.py"
   ]
  }
 ],
 "metadata": {
  "kernelspec": {
   "display_name": "Python 3 (ipykernel)",
   "language": "python",
   "name": "python3"
  },
  "language_info": {
   "codemirror_mode": {
    "name": "ipython",
    "version": 3
   },
   "file_extension": ".py",
   "mimetype": "text/x-python",
   "name": "python",
   "nbconvert_exporter": "python",
   "pygments_lexer": "ipython3",
   "version": "3.10.4"
  },
  "latex_envs": {
   "LaTeX_envs_menu_present": true,
   "autoclose": false,
   "autocomplete": true,
   "bibliofile": "biblio.bib",
   "cite_by": "apalike",
   "current_citInitial": 1,
   "eqLabelWithNumbers": true,
   "eqNumInitial": 1,
   "hotkeys": {
    "equation": "Ctrl-E",
    "itemize": "Ctrl-I"
   },
   "labels_anchors": false,
   "latex_user_defs": false,
   "report_style_numbering": false,
   "user_envs_cfg": false
  },
  "toc": {
   "base_numbering": 1,
   "nav_menu": {},
   "number_sections": true,
   "sideBar": true,
   "skip_h1_title": false,
   "title_cell": "Table of Contents",
   "title_sidebar": "Contents",
   "toc_cell": false,
   "toc_position": {},
   "toc_section_display": true,
   "toc_window_display": false
  },
  "varInspector": {
   "cols": {
    "lenName": 16,
    "lenType": 16,
    "lenVar": 40
   },
   "kernels_config": {
    "python": {
     "delete_cmd_postfix": "",
     "delete_cmd_prefix": "del ",
     "library": "var_list.py",
     "varRefreshCmd": "print(var_dic_list())"
    },
    "r": {
     "delete_cmd_postfix": ") ",
     "delete_cmd_prefix": "rm(",
     "library": "var_list.r",
     "varRefreshCmd": "cat(var_dic_list()) "
    }
   },
   "types_to_exclude": [
    "module",
    "function",
    "builtin_function_or_method",
    "instance",
    "_Feature"
   ],
   "window_display": false
  },
  "vscode": {
   "interpreter": {
    "hash": "2f7263ae54aa91977056e26d7dcbe5dc006da0ff4955d3d1b0adfc804aca37d4"
   }
  }
 },
 "nbformat": 4,
 "nbformat_minor": 2
}
