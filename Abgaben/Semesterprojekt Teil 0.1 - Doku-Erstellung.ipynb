{
 "cells": [
  {
   "cell_type": "markdown",
   "metadata": {},
   "source": [
    "# Dokumentationserstellung fürs Semesterprojekt"
   ]
  },
  {
   "cell_type": "code",
   "execution_count": 10,
   "metadata": {},
   "outputs": [
    {
     "name": "stdout",
     "output_type": "stream",
     "text": [
      "Running Sphinx v3.4.3\n",
      "loading translations [en]... done\n",
      "loading pickled environment... done\n",
      "building [mo]: targets for 0 po files that are out of date\n",
      "building [html]: targets for 0 source files that are out of date\n",
      "updating environment: 1 added, 0 changed, 0 removed\n",
      "reading sources... [100%] galaxy_simulation_mp\n"
     ]
    },
    {
     "name": "stderr",
     "output_type": "stream",
     "text": [
      "WARNING: html_static_path entry '_static' does not exist\n"
     ]
    },
    {
     "name": "stdout",
     "output_type": "stream",
     "text": [
      "\n",
      "looking for now-outdated files... none found\n",
      "pickling environment... done\n",
      "checking consistency... done\n",
      "preparing documents... done\n",
      "writing output... [ 50%] galaxy_simulation_mp\n",
      "writing output... [100%] index\n",
      "\n",
      "generating indices... genindex py-modindex done\n",
      "writing additional pages... search done\n",
      "copying static files... done\n",
      "copying extra files... done\n",
      "dumping search index in English (code: en)... done\n",
      "dumping object inventory... done\n",
      "build succeeded, 7 warnings.\n",
      "\n",
      "The HTML pages are in _build/html.\n"
     ]
    },
    {
     "name": "stderr",
     "output_type": "stream",
     "text": [
      "WARNING: autodoc: failed to import module 'galaxy' from module 'galaxy_simulation_mp'; the following exception was raised:\n",
      "No module named 'galaxy_manager'\n",
      "WARNING: autodoc: failed to import module 'galaxy_worker' from module 'galaxy_simulation_mp'; the following exception was raised:\n",
      "No module named 'galaxy_manager'\n",
      "WARNING: autodoc: failed to import module 'galaxy_worker_2' from module 'galaxy_simulation_mp'; the following exception was raised:\n",
      "No module named 'galaxy_manager'\n",
      "WARNING: autodoc: failed to import module 'simulation_gui' from module 'galaxy_simulation_mp'; the following exception was raised:\n",
      "No module named 'galaxy_manager'\n",
      "/home/pyoneer/PROG3/prog3_praktikum/Semesterprojekt/Semesterprojekt/docs/galaxy_simulation_mp.rst: WARNING: document isn't included in any toctree\n",
      "/home/pyoneer/PROG3/prog3_praktikum/Semesterprojekt/Semesterprojekt/docs/modules.rst: WARNING: document isn't included in any toctree\n"
     ]
    },
    {
     "data": {
      "text/plain": [
       "CompletedProcess(args=['make', 'html'], returncode=0)"
      ]
     },
     "execution_count": 10,
     "metadata": {},
     "output_type": "execute_result"
    }
   ],
   "source": [
    "import subprocess\n",
    "\n",
    "documentation_path = '/home/pyoneer/PROG3/prog3_praktikum/Semesterprojekt/Semesterprojekt/docs/'\n",
    "make_cmd = 'make html'\n",
    "make_args = make_cmd.split()\n",
    "subprocess.run(make_args, cwd=documentation_path)"
   ]
  },
  {
   "cell_type": "code",
   "execution_count": 9,
   "metadata": {},
   "outputs": [
    {
     "name": "stdout",
     "output_type": "stream",
     "text": [
      "Creating file docs/galaxy_simulation_mp.rst.\n",
      "File docs/modules.rst already exists, skipping.\n"
     ]
    }
   ],
   "source": [
    "%%bash\n",
    "cd ~/PROG3/prog3_praktikum/Semesterprojekt/Semesterprojekt/\n",
    "sphinx-apidoc -o docs galaxy_simulation_mp\n"
   ]
  }
 ],
 "metadata": {
  "kernelspec": {
   "display_name": "Python 3.10.4 ('base')",
   "language": "python",
   "name": "python3"
  },
  "language_info": {
   "codemirror_mode": {
    "name": "ipython",
    "version": 3
   },
   "file_extension": ".py",
   "mimetype": "text/x-python",
   "name": "python",
   "nbconvert_exporter": "python",
   "pygments_lexer": "ipython3",
   "version": "3.10.4"
  },
  "orig_nbformat": 4,
  "vscode": {
   "interpreter": {
    "hash": "ed0fc9e1ba4c343e8ade4d5538a8ec91601228e61678bca46139119b02338223"
   }
  }
 },
 "nbformat": 4,
 "nbformat_minor": 2
}
