{
 "cells": [
  {
   "cell_type": "markdown",
   "id": "bdb84004",
   "metadata": {},
   "source": [
    "# Prog3 Semesterprojekt - A-1: Systematische Problemlösung"
   ]
  },
  {
   "cell_type": "markdown",
   "id": "0c55e548",
   "metadata": {},
   "source": [
    "### Das Problem verstehen\n",
    "#### Was brauchen wir?\n",
    "- Daten über Himmelskörper\n",
    "- Formeln 1 und 2\n",
    "- Recherche zu Punktmasse\n",
    "\n",
    "#### Offene Fragen\n",
    "- Was genau ist mit der Aufgabenstellung gefordert? Muss implementiert werden?\n",
    "- Wie können wir mit den 2 Gleichungen das Sonnensystem abbilden?\n",
    "\n",
    "#### Letzliche Aufgabenstellung\n",
    "Anhand der Formeln, welche noch angepasst werden müssen, einen Ablaufdiagramm für einen Algorithmus erstellen. Außerdem muss der Begriff \"Punktmasse\" fest definiert werden und noch Daten über die Planeten des Sonnensystems gesammelt werden."
   ]
  },
  {
   "cell_type": "markdown",
   "id": "a47fb732",
   "metadata": {},
   "source": [
    "### Recherche\n",
    "Die Berechnung wird komplexer, je mehr Planeten mit berücksichtigt werden müssen. Daher muss zuerst eine Gesamtkraft (bzw. der Vektor der Gesamtkraft) berechnet werden, bevor die Planeten \"bewegt\" werden. Außerdem werden Kräfte ab einem gewissen Punkt vernachlässigbar -> Wo ist dieser Punkt? Die Formeln müssen so umgeschrieben werden, dass mit der Geschwindigkeit bzw. Kraft gerechnet wird. Anhand der Geschwindigkeit und der auf den Körper wirkenden Kräften kann die Bewegung berechnet werden.  \n",
    "Je größer das $\\Delta t$ ist, desto ungenauer wird die Annäherung!\n",
    "\n",
    "#### Formeln aus dem Skript\n",
    "\n",
    "1. Formel:  $\\vec r(t+∆t) ≈ \\vec r(t) + ∆t* \\dot {\\vec r}(t) + \\frac{∆t²}{2}\\ddot {\\vec r}(t)$\n",
    "2. Formel: $F_{G,1} = G \\frac{m_1*m_2}{|\\vec r_2 - \\vec r_1 |^3}(\\vec r_2 - \\vec r_1)$\n",
    "\n",
    "$G = 6.672*10^{-11} \\frac{Nm²}{kg²}$"
   ]
  },
  {
   "cell_type": "markdown",
   "id": "a6418ff6",
   "metadata": {},
   "source": [
    "### Zerlegung in Teilaufgaben\n",
    "- Diskussion über Punktmasse\n",
    "- Sammeln der Daten -> Flo\n",
    "- Verstehen und anpassen der gegebenen Formeln -> Domenik\n",
    "- Erstellen eines Ablauf Diagramms zum Ablauf einer Simulation der Bewegung von N Körpern -> Alex, Tami, Tim am Donnerstag"
   ]
  },
  {
   "cell_type": "markdown",
   "id": "8396e5f8",
   "metadata": {},
   "source": [
    "## Bearbeitung der Teilaufgaben"
   ]
  },
  {
   "cell_type": "markdown",
   "id": "a6f1d973",
   "metadata": {},
   "source": [
    "#### Punktmasse\n",
    "Die Masse eines Planeten wird an seinem Mittelpunkt konzentriert und nicht über den gesamten Körper verteilt. Aus praktischen und aus Gründen der Einfachheit wird deshalb bei uns die Punktmasse verwendet.\n",
    "\n",
    "#### Zusammenführung der Formeln - Domenik\n",
    "\n",
    "Da sich die Geschwindigkeit nicht konstant verändert, wird, um dies etwas einfacher zu machen beim Start aus den Dateien der Startzustand geladen und dann der Ist-Zustand nach jeder Aktualisierung gespeichert.\n",
    "Diese beinhaltet Position und Geschwindigkeit.\n",
    "\n",
    "Sowie die Grundlagen der Dynamik:\n",
    "Position $\\vec r(t):$ Ort, an dem sich der Körper zum Zeitpunkt $t$ befindet.\n",
    "\n",
    "Geschwindigkeit $\\vec v(t) = \\dot {\\vec r}(t):$ Zeitliche Änderung der Position.\n",
    "\n",
    "Beschleunigung $\\vec a(t) = \\dot {\\vec v}(t) =  \\ddot {\\vec r}(t):$ Zeitliche Änderung der Geschwindigkeit.\n",
    "\n",
    "Kraft $\\vec F(t)$: Nach Newton gilt $\\vec F = m \\vec a$, wobei $m$ die Masse des Körpers bezeichnet.\n",
    "\n",
    "Berechnung der Kraft:\n",
    "$\\sum F_{G,i} = G \\frac{m_i*m_j}{|\\vec r_j - \\vec r_i |^3}(\\vec r_j - \\vec r_i)$ über alle Objekter der Simulation mit Masse.\n",
    "\n",
    "Der daraus resultierende Kraftvektor ist die gesamte Gravitationskraft, die auf den Körper 1 wirkt. Dies lässt sich am einfachsten in eine eigene Fuktions auslagern, welche den Vektor zurückgibt.\n",
    "\n",
    "Berechnung der Position:\n",
    "Zur Berechnung muss die Geschwindigkeit auch in einem Vektor angegeben werden, sodass man die Geschwindigkeit immer aktualisieren kann, wenn eine Berechnungsphase zu Ende ist. Man zieht sich also aus einer Datei die Werte eines Objektes (Masse, Geschwindigkeit, Position), womit sich dann die Kraft berechnen lässt. Aus der Kraft kann man dann die Beschleunigung berechnen:\n",
    "$\\vec a$ = $\\frac {\\vec F}{m}$ \n",
    "\n",
    "Da wir immer nur mit einer Zeiteinheit rechnen und die aktuelle Geschwindigkeit speichern, ist $t$ immer 1:\n",
    "$\\vec v_{new} = \\vec a \\cdot t + \\vec v_{old} \\to \\vec v_{new} = \\vec a + \\vec v_{old} $\n",
    "\n",
    "\n",
    "Berechnung der neuen Position nach einer Zeiteinheit:\n",
    "$\\vec r_{new} ≈ \\vec r_{old} + \\vec v + \\frac{1}{2}\\vec a$"
   ]
  },
  {
   "cell_type": "markdown",
   "id": "d33b8879",
   "metadata": {},
   "source": [
    "#### Korrektur nach der Abnhame\n",
    "Aus den folgenden Formeln:\n",
    "$$ \\vec r(t+∆t) ≈ \\vec r(t) + ∆t\\cdot \\dot {\\vec r}(t) + \\frac{∆t²}{2}\\ddot {\\vec r}(t) $$\n",
    "\n",
    "$$ F_{G,1} = G \\frac{m_1 \\cdot m_2}{|\\vec r_2 - \\vec r_1 |^3}(\\vec r_2 - \\vec r_1) $$\n",
    "\n",
    "$$ G = 6.672*10^{-11} \\frac{Nm²}{kg²} $$\n",
    "\n",
    "Berechnung der Geschwindigkeit:\n",
    "$$ \\vec v = \\vec v_{old} + \\Delta t \\cdot \\vec a $$\n",
    "\n",
    "Berechnung der Beschleunigung aus der Gesamtkraft ($ \\sum F = m \\cdot \\vec a \\equiv \\vec a = \\frac{\\sum F}{m} $):\n",
    "$$ \\vec a = \\frac{1}{m_1} \\cdot \\sum F_{G,1} $$\n",
    "\n",
    "Einsetzen von Formel (2) ergibt:\n",
    "$$ \\vec a = \\frac{1}{m_1} \\cdot \\sum G \\frac{m_1 \\cdot m_2}{|\\vec r_2 - \\vec r_1 |^3}(\\vec r_2 - \\vec r_1) $$\n",
    "\n",
    "Mithilfe von $\\vec a$ und $\\vec v$ kommt man schrittweise auf die Position $\\vec r$:\n",
    "$$ \\vec r(t+ \\Delta t) ≈ \\vec r(t) + \\Delta t \\cdot \\vec v + \\frac{\\Delta t²}{2} \\cdot \\vec a $$"
   ]
  },
  {
   "cell_type": "markdown",
   "id": "b5614441",
   "metadata": {},
   "source": [
    "#### Daten über das Sonnensystem\n",
    "Daten (Sonnensystem):\n",
    "Planeten  \n",
    "**1. Merkur**  \n",
    "   >a. Masse = 3,301 * 10^23kg  \n",
    "\tb. r = 24 397 700m  \n",
    "\tc. d(Sonnenzentrum) = 60,4 * 10^9m  \n",
    "\td. v(Perihel) = 58 980 m/s  \n",
    "\te. v(Aphel) = 38 860 m/s  \n",
    "\tf. v(Mittel) = 47 870 m/s  \n",
    "        \n",
    "**2. Venus**  \n",
    "   >a. Masse = 4,875 * 10^24kg  \n",
    "\tb. r = 6 051 800 m  \n",
    "\tc. d(Sonnenzentrum) = 108.208.930.000m  \n",
    "\td. v(Mittel) = 35 020 m/s  \n",
    "    \n",
    "**3. Erde**  \n",
    "   >a. Masse = 5,9722 * 10^24kg  \n",
    "\tb. r = 6 371 000m  \n",
    "\tc. d(Sonnenzentrum) = 149 * 10^9m  \n",
    "\td. v(Mittel) = 29785,9 m/s  \n",
    "\t>>I. Mondmasse = 7,346 * 10^22kg  \n",
    "\t  II. r(Mond) = 1 737 000m  \n",
    "\t  III. d(Erde) = 384 400 000m  \n",
    "\t  IV. v(Mond, Mittel) = 1023 m/s  \n",
    "            \n",
    "**4. Mars**  \n",
    "   >a. Masse = 6,417 * 10^23kg  \n",
    "\tb. r = 3 389 500m  \n",
    "\tc. d(Sonnenzentrum) = 228 * 10^9m  \n",
    "\td. v(Mittel) = 24 130 m/s \n",
    "    \n",
    "**5. Jupiter**\n",
    "   >a. Masse = 1,899 * 10^27kg\n",
    "\tb. r = 69.911.000m\n",
    "\tc. d(Sonnenzentrum) = 779 * 10^9m\n",
    "\td. v(Mittel) = 7094 m/s\n",
    "    \n",
    "**6. Saturn**  \n",
    "   >a. Masse = 5,683 * 10^26kg  \n",
    "\tb. r = 58.232.000m  \n",
    "\tc. d(Sonnenzentrum) = 1,4721 * 10^12m  \n",
    "\td. v(Mittel) = 9690 m/s  \n",
    "    \n",
    "**7. Uranus**  \n",
    "   >a. Masse = 8,681 * 10^25kg  \n",
    "\tb. r = 25.362.000m  \n",
    "\tc. d(Sonnenzentrum) = 2,9433 * 10^12m  \n",
    "\td. v(Mittel) = 6810 m/s  \n",
    "    \n",
    "**8. Neptun**  \n",
    "   >a. Masse = 1,024  \n",
    "\tb. r = 24.622.000m  \n",
    "\tc. d(Sonnenzentrum) = 4,4738 * 10^12m  \n",
    "\td. v(Mitte) = 5430 m/s  \n",
    "    \n",
    "**9. Kuipergürtel (Eris, Pluto)**  \n",
    "\n",
    "Position und Geschwindigkeit müssen für die Berechnung noch in eine Vektor umgewandelt werden, dies kann aber erst sinnvoll geschehen wenn die Eigenschaft zur Darstellung bekannt sind."
   ]
  },
  {
   "cell_type": "markdown",
   "id": "02c61d3f",
   "metadata": {},
   "source": [
    "#### Diagramm\n",
    "![](./images%20and%20files/Ablaufdiagramm.png)"
   ]
  }
 ],
 "metadata": {
  "kernelspec": {
   "display_name": "Python 3.10.6 64-bit",
   "language": "python",
   "name": "python3"
  },
  "language_info": {
   "codemirror_mode": {
    "name": "ipython",
    "version": 3
   },
   "file_extension": ".py",
   "mimetype": "text/x-python",
   "name": "python",
   "nbconvert_exporter": "python",
   "pygments_lexer": "ipython3",
   "version": "3.10.6"
  },
  "latex_envs": {
   "LaTeX_envs_menu_present": true,
   "autoclose": false,
   "autocomplete": true,
   "bibliofile": "biblio.bib",
   "cite_by": "apalike",
   "current_citInitial": 1,
   "eqLabelWithNumbers": true,
   "eqNumInitial": 1,
   "hotkeys": {
    "equation": "Ctrl-E",
    "itemize": "Ctrl-I"
   },
   "labels_anchors": false,
   "latex_user_defs": false,
   "report_style_numbering": false,
   "user_envs_cfg": false
  },
  "toc": {
   "base_numbering": 1,
   "nav_menu": {},
   "number_sections": true,
   "sideBar": true,
   "skip_h1_title": false,
   "title_cell": "Table of Contents",
   "title_sidebar": "Contents",
   "toc_cell": false,
   "toc_position": {},
   "toc_section_display": true,
   "toc_window_display": false
  },
  "varInspector": {
   "cols": {
    "lenName": 16,
    "lenType": 16,
    "lenVar": 40
   },
   "kernels_config": {
    "python": {
     "delete_cmd_postfix": "",
     "delete_cmd_prefix": "del ",
     "library": "var_list.py",
     "varRefreshCmd": "print(var_dic_list())"
    },
    "r": {
     "delete_cmd_postfix": ") ",
     "delete_cmd_prefix": "rm(",
     "library": "var_list.r",
     "varRefreshCmd": "cat(var_dic_list()) "
    }
   },
   "types_to_exclude": [
    "module",
    "function",
    "builtin_function_or_method",
    "instance",
    "_Feature"
   ],
   "window_display": false
  },
  "vscode": {
   "interpreter": {
    "hash": "916dbcbb3f70747c44a77c7bcd40155683ae19c65e1c03b4aa3499c5328201f1"
   }
  }
 },
 "nbformat": 4,
 "nbformat_minor": 5
}
