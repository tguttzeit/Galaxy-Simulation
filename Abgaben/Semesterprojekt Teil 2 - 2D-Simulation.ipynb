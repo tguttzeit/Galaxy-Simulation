{
 "cells": [
  {
   "cell_type": "markdown",
   "id": "bdb84004",
   "metadata": {},
   "source": [
    "# Prog3 2D-Simulation und Prof of Concept"
   ]
  },
  {
   "cell_type": "markdown",
   "id": "3adb11d5",
   "metadata": {},
   "source": [
    "Für die Simulation wurden als erstes die Daten für die Simulation vorbereitet, und alle nötigen Packages importiert. Da auf die Daten schon in der Vorherigen Aufgabe eingegangen sind, werden diese hier nicht mehr eingefügt."
   ]
  },
  {
   "cell_type": "code",
   "execution_count": 1,
   "id": "3c946f8a",
   "metadata": {},
   "outputs": [],
   "source": [
    "import sys\n",
    "import math\n",
    "import numpy as np\n",
    "import matplotlib.pyplot as plt\n",
    "\n",
    "colors = [\"orange\", \"blue\", \"red\"]\n",
    "planets = [\"sun\", \"earth\", \"mars\"]\n",
    "mass = np.array([1.98*10**(30),5.9722*10**(24),6.417 * 10**(23)])\n",
    "velocity = np.array([[0,0,0], [0,29785.8,0], [0,24130,0]])\n",
    "position = np.array([[0,0,0], [149* 10**9,0,0], [228* 10**9,0,0]])\n",
    "G = 6.672*10**(-11)\n",
    "deltaT = 10800 # 1 Stunde = 3600 s, 1 Tag = 86400 s, Angabe ist in Sekunden, 3 Stunden = 10800 s\n"
   ]
  },
  {
   "cell_type": "markdown",
   "id": "b3674889",
   "metadata": {},
   "source": [
    "Als nächstes wird die Funktion für die Gesmatbeschleunigung aus dem verschieden Planeten berechnet und zurück gegeben:\n",
    "Die dafür verwendeten Formeln sind:\n",
    "\n",
    "$$ F_{G,1} = G \\frac{m_1 \\cdot m_2}{|\\vec r_2 - \\vec r_1 |^3}(\\vec r_2 - \\vec r_1) $$\n",
    "\n",
    "$$ G = 6.672*10^{-11} \\frac{Nm²}{kg²} $$\n",
    "\n",
    "Berechnung der Beschleunigung aus der Gesamtkraft ($ \\sum F = m \\cdot \\vec a \\equiv \\vec a = \\frac{\\sum F}{m} $):\n",
    "$$ \\vec a = \\frac{1}{m_1} \\cdot \\sum F_{G,1} $$\n",
    "\n",
    "\n",
    "Einsetzen von Formel ergibt:\n",
    "$$ \\vec a = \\frac{1}{m_1} \\cdot \\sum G \\frac{m_1 \\cdot m_2}{|\\vec r_2 - \\vec r_1 |^3}(\\vec r_2 - \\vec r_1) $$\n"
   ]
  },
  {
   "cell_type": "code",
   "execution_count": 2,
   "id": "3d84441f",
   "metadata": {},
   "outputs": [],
   "source": [
    "def calculateAcceleration(planetIndex):\n",
    "    totalForce = 0\n",
    "    for index, value in enumerate(mass):\n",
    "        if index == planetIndex:\n",
    "            continue\n",
    "        force = G*((mass[planetIndex]*value)/(np.linalg.norm(position[index]-position[planetIndex]))**3)*(position[index]-position[planetIndex])\n",
    "        totalForce = totalForce + force\n",
    "    acceleration = totalForce / mass[planetIndex]\n",
    "    return acceleration"
   ]
  },
  {
   "cell_type": "markdown",
   "id": "0fae176e",
   "metadata": {},
   "source": [
    "Nun wird die Funktion für die Position eingebaut, dabei werden folgende Formeln verwendet:\n",
    "$$ \\vec r(t+∆t) ≈ \\vec r(t) + ∆t\\cdot \\dot {\\vec r}(t) + \\frac{∆t²}{2}\\ddot {\\vec r}(t) $$\n",
    "\n",
    "Berechnung der Geschwindigkeit:\n",
    "$$ \\vec v = \\vec v_{old} + \\Delta t \\cdot \\vec a $$\n",
    "\n",
    "\n",
    "Mithilfe von $\\vec a$ und $\\vec v$ kommt man schrittweise auf die Position $\\vec r$:\n",
    "$$ \\vec r(t+ \\Delta t) ≈ \\vec r(t) + \\Delta t \\cdot \\vec v + \\frac{\\Delta t²}{2} \\cdot \\vec a $$"
   ]
  },
  {
   "cell_type": "code",
   "execution_count": 3,
   "id": "80d94c8c",
   "metadata": {},
   "outputs": [],
   "source": [
    "def calculateNewPosition(planetIndex):\n",
    "    accel = calculateAcceleration(planetIndex)\n",
    "    newPos = position[planetIndex] +  velocity[planetIndex] * deltaT + 1/2 * accel * deltaT**2\n",
    "    velocity[planetIndex] = velocity[planetIndex] + accel * deltaT\n",
    "    return newPos"
   ]
  },
  {
   "cell_type": "markdown",
   "id": "30517e16",
   "metadata": {},
   "source": [
    "Für die Simulation muss der Start initizalisiert werden, dies wird in der nachfolgenden Funktion gemacht:"
   ]
  },
  {
   "cell_type": "code",
   "execution_count": 4,
   "id": "29612c54",
   "metadata": {},
   "outputs": [],
   "source": [
    "def plotStartPositions():\n",
    "    for index, pos in enumerate(position):\n",
    "        plt.scatter(pos[0], pos[1], c=colors[index])\n",
    "  "
   ]
  },
  {
   "cell_type": "markdown",
   "id": "873dcbac",
   "metadata": {},
   "source": [
    "Der eigentliche Teil ist die Simulationsfunktion, welche über die Planeten geht und die neue Position berechnen lässt."
   ]
  },
  {
   "cell_type": "code",
   "execution_count": 17,
   "id": "022ae92a",
   "metadata": {},
   "outputs": [],
   "source": [
    "def simulate():\n",
    "    newPositions = []\n",
    "    for index, planet in enumerate(planets):\n",
    "        if planet == \"sun\":\n",
    "            newPositions.append([0,0,0])\n",
    "            continue\n",
    "        newPos = calculateNewPosition(index)\n",
    "        newPositions.append(newPos)\n",
    "        plt.scatter(newPos[0], newPos[1], c=colors[index])\n",
    "    position = np.array(newPositions)"
   ]
  },
  {
   "cell_type": "markdown",
   "id": "0127b8a7",
   "metadata": {},
   "source": [
    "Der Start der Simulation und wielange simuliert werden soll."
   ]
  },
  {
   "cell_type": "code",
   "execution_count": 20,
   "id": "008a2bf0",
   "metadata": {},
   "outputs": [],
   "source": [
    "def startSimulation():\n",
    "    plotStartPositions()\n",
    "    for i in range(100): #für ein Jahr muss abhänig von DeltaT gewählt werden, DeltaT = 3600: 8760, für DeltaT = 86400: 365\n",
    "        simulate()"
   ]
  },
  {
   "cell_type": "markdown",
   "id": "7c875fd7",
   "metadata": {},
   "source": [
    "Die Hauptfunktion und das 2D Plotting"
   ]
  },
  {
   "cell_type": "code",
   "execution_count": 21,
   "id": "667b6b92",
   "metadata": {},
   "outputs": [
    {
     "data": {
      "image/png": "[encoded data removed]",
      "text/plain": [
       "<Figure size 640x480 with 1 Axes>"
      ]
     },
     "metadata": {},
     "output_type": "display_data"
    }
   ],
   "source": [
    "if __name__ == \"__main__\":\n",
    "    startSimulation()\n",
    "    plt.show()"
   ]
  },
  {
   "cell_type": "markdown",
   "id": "9f7871b1",
   "metadata": {},
   "source": [
    "Noch fragen?"
   ]
  }
 ],
 "metadata": {
  "kernelspec": {
   "display_name": "Python 3 (ipykernel)",
   "language": "python",
   "name": "python3"
  },
  "language_info": {
   "codemirror_mode": {
    "name": "ipython",
    "version": 3
   },
   "file_extension": ".py",
   "mimetype": "text/x-python",
   "name": "python",
   "nbconvert_exporter": "python",
   "pygments_lexer": "ipython3",
   "version": "3.10.4"
  },
  "latex_envs": {
   "LaTeX_envs_menu_present": true,
   "autoclose": false,
   "autocomplete": true,
   "bibliofile": "biblio.bib",
   "cite_by": "apalike",
   "current_citInitial": 1,
   "eqLabelWithNumbers": true,
   "eqNumInitial": 1,
   "hotkeys": {
    "equation": "Ctrl-E",
    "itemize": "Ctrl-I"
   },
   "labels_anchors": false,
   "latex_user_defs": false,
   "report_style_numbering": false,
   "user_envs_cfg": false
  },
  "toc": {
   "base_numbering": 1,
   "nav_menu": {},
   "number_sections": true,
   "sideBar": true,
   "skip_h1_title": false,
   "title_cell": "Table of Contents",
   "title_sidebar": "Contents",
   "toc_cell": false,
   "toc_position": {},
   "toc_section_display": true,
   "toc_window_display": false
  },
  "varInspector": {
   "cols": {
    "lenName": 16,
    "lenType": 16,
    "lenVar": 40
   },
   "kernels_config": {
    "python": {
     "delete_cmd_postfix": "",
     "delete_cmd_prefix": "del ",
     "library": "var_list.py",
     "varRefreshCmd": "print(var_dic_list())"
    },
    "r": {
     "delete_cmd_postfix": ") ",
     "delete_cmd_prefix": "rm(",
     "library": "var_list.r",
     "varRefreshCmd": "cat(var_dic_list()) "
    }
   },
   "types_to_exclude": [
    "module",
    "function",
    "builtin_function_or_method",
    "instance",
    "_Feature"
   ],
   "window_display": false
  },
  "vscode": {
   "interpreter": {
    "hash": "ed0fc9e1ba4c343e8ade4d5538a8ec91601228e61678bca46139119b02338223"
   }
  }
 },
 "nbformat": 4,
 "nbformat_minor": 5
}
