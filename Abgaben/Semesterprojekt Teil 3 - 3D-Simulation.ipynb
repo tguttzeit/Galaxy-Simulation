{
 "cells": [
  {
   "cell_type": "markdown",
   "metadata": {},
   "source": [
    "# Prog3 - Semesterprojekt Teil 3 - 3D Simulation"
   ]
  },
  {
   "cell_type": "markdown",
   "metadata": {},
   "source": [
    "\n",
    "## Setup\n",
    "Zunächst muss `freeglut` installiert werden: \n",
    "```bash\n",
    "sudo apt-get install freeglut3-dev\n",
    "```\n",
    "Danach muss eine `wheel`-Datei erstellt werden:\n",
    "```bash\n",
    "cd Semesterprojekt/Semesterprojekt\n",
    "python setup.py bdist_wheel\n",
    "pip install --force-reinstall --no-deps dist/vis_3d-0.1.1-py3-none-any.whl\n",
    "```\n",
    "\n",
    "Dann die Datei `simulation_gui.py` ausführen.\n"
   ]
  },
  {
   "cell_type": "markdown",
   "metadata": {},
   "source": [
    "## Aufgabe 1: Beantwortung der Fragen\n",
    "### Wie können Sie die Visualisierung in Ihre Gravitationssimulaiton einbinden?\n",
    "- Verwendung des vis_3d packages\n",
    "- Übernehmen der Sim-GUI, Sim-Starter kann weg (wird in der GUI genauso implementiert)\n",
    "- Sim-Mockup muss ersetzt werden durch eigene Implementierung der Planeten.\n",
    "\n",
    "### Welche Bedeutung haben die Konstanten `_CAMERA_POSITION` und `_LIGHT_POSITION`?\n",
    "- `LIGHT_POSITION`: Position der Lichtquelle\n",
    "- `_CAMERA_POSITION`: Wilde Sache, anstatt die Position der Kamera zu verändern, bleibt diese an einem fixen Punkt im Koordinatensystem und das Koordinatensystem wird gezerrt und rotiert."
   ]
  },
  {
   "cell_type": "markdown",
   "metadata": {},
   "source": [
    "## Aufgabe 2: Implementierung der Simulation\n",
    "\n",
    "### Code verstehen\n",
    "- In Mockup werden die Größen der Bodies relativ zueinander festgelegt -> Brauchen wir nicht. Wir brauchen aber einen Maßstab, anhand dessen wir die Größen der Planeten bestimmen können\n",
    "- np.ndarray ist ein multidimensionales Array\n",
    "- (Stand jetzt): `startup`-Funktion kann so verwendet werden, `initialize_bodies` und `move_bodies` muss selbst implementiert werden\n",
    "- `shared_flags` werden verwendet, um das Multiprocessing möglich zu machen. Dadurch wird ein Körper \"gelocked\", um die Bewegung sauber berechnen zu können.\n",
    "\n",
    "### Implementierung \n",
    "- Config File erstellen\n",
    "- Config Loader\n",
    "- Initialize Planets ändern\n",
    "- Move Planets ändern\n",
    "- GUI erweitern\n",
    "- Tests schreiben\n",
    "- Dokumentieren\n",
    "- Ausführung ins Notebook"
   ]
  },
  {
   "cell_type": "code",
   "execution_count": 1,
   "metadata": {},
   "outputs": [
    {
     "name": "stdout",
     "output_type": "stream",
     "text": [
      "/rzhome/guttzeit/PROG3/prog3_praktikum/Semesterprojekt/Semesterprojekt/galaxy_simulation\n",
      "creating renderer\n",
      "starting renderer\n"
     ]
    }
   ],
   "source": [
    "%cd ~/PROG3/prog3_praktikum/Semesterprojekt/Semesterprojekt/galaxy_simulation\n",
    "!python3 simulation_gui.py"
   ]
  }
 ],
 "metadata": {
  "kernelspec": {
   "display_name": "Python 3 (ipykernel)",
   "language": "python",
   "name": "python3"
  },
  "language_info": {
   "codemirror_mode": {
    "name": "ipython",
    "version": 3
   },
   "file_extension": ".py",
   "mimetype": "text/x-python",
   "name": "python",
   "nbconvert_exporter": "python",
   "pygments_lexer": "ipython3",
   "version": "3.10.4"
  },
  "latex_envs": {
   "LaTeX_envs_menu_present": true,
   "autoclose": false,
   "autocomplete": true,
   "bibliofile": "biblio.bib",
   "cite_by": "apalike",
   "current_citInitial": 1,
   "eqLabelWithNumbers": true,
   "eqNumInitial": 1,
   "hotkeys": {
    "equation": "Ctrl-E",
    "itemize": "Ctrl-I"
   },
   "labels_anchors": false,
   "latex_user_defs": false,
   "report_style_numbering": false,
   "user_envs_cfg": false
  },
  "toc": {
   "base_numbering": 1,
   "nav_menu": {},
   "number_sections": true,
   "sideBar": true,
   "skip_h1_title": false,
   "title_cell": "Table of Contents",
   "title_sidebar": "Contents",
   "toc_cell": false,
   "toc_position": {},
   "toc_section_display": true,
   "toc_window_display": false
  },
  "varInspector": {
   "cols": {
    "lenName": 16,
    "lenType": 16,
    "lenVar": 40
   },
   "kernels_config": {
    "python": {
     "delete_cmd_postfix": "",
     "delete_cmd_prefix": "del ",
     "library": "var_list.py",
     "varRefreshCmd": "print(var_dic_list())"
    },
    "r": {
     "delete_cmd_postfix": ") ",
     "delete_cmd_prefix": "rm(",
     "library": "var_list.r",
     "varRefreshCmd": "cat(var_dic_list()) "
    }
   },
   "types_to_exclude": [
    "module",
    "function",
    "builtin_function_or_method",
    "instance",
    "_Feature"
   ],
   "window_display": false
  },
  "vscode": {
   "interpreter": {
    "hash": "ed0fc9e1ba4c343e8ade4d5538a8ec91601228e61678bca46139119b02338223"
   }
  }
 },
 "nbformat": 4,
 "nbformat_minor": 2
}
